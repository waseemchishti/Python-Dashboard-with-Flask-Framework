{
 "cells": [
  {
   "cell_type": "markdown",
   "metadata": {},
   "source": [
    "### Waste Management Companies 2018 Data Statistics (Dashboard)"
   ]
  },
  {
   "cell_type": "markdown",
   "metadata": {},
   "source": [
    "### Binding All files into one"
   ]
  },
  {
   "cell_type": "code",
   "execution_count": 1,
   "metadata": {},
   "outputs": [
    {
     "ename": "FileNotFoundError",
     "evalue": "[WinError 2] The system cannot find the file specified: 'C:/Users/Angel/Downloads/17-18-19'",
     "output_type": "error",
     "traceback": [
      "\u001b[1;31m---------------------------------------------------------------------------\u001b[0m",
      "\u001b[1;31mFileNotFoundError\u001b[0m                         Traceback (most recent call last)",
      "\u001b[1;32m<ipython-input-1-4767dbeb708d>\u001b[0m in \u001b[0;36m<module>\u001b[1;34m\u001b[0m\n\u001b[0;32m      4\u001b[0m \u001b[1;33m\u001b[0m\u001b[0m\n\u001b[0;32m      5\u001b[0m \u001b[0mpath\u001b[0m \u001b[1;33m=\u001b[0m \u001b[1;34m\"C:/Users/Angel/Downloads/17-18-19\"\u001b[0m\u001b[1;33m\u001b[0m\u001b[1;33m\u001b[0m\u001b[0m\n\u001b[1;32m----> 6\u001b[1;33m \u001b[0mos\u001b[0m\u001b[1;33m.\u001b[0m\u001b[0mchdir\u001b[0m\u001b[1;33m(\u001b[0m\u001b[0mpath\u001b[0m\u001b[1;33m)\u001b[0m\u001b[1;33m\u001b[0m\u001b[1;33m\u001b[0m\u001b[0m\n\u001b[0m\u001b[0;32m      7\u001b[0m \u001b[0mextension\u001b[0m \u001b[1;33m=\u001b[0m \u001b[1;34m\".xlsx\"\u001b[0m\u001b[1;33m\u001b[0m\u001b[1;33m\u001b[0m\u001b[0m\n\u001b[0;32m      8\u001b[0m \u001b[1;33m\u001b[0m\u001b[0m\n",
      "\u001b[1;31mFileNotFoundError\u001b[0m: [WinError 2] The system cannot find the file specified: 'C:/Users/Angel/Downloads/17-18-19'"
     ]
    }
   ],
   "source": [
    "import glob\n",
    "import pandas as pd\n",
    "import os\n",
    "\n",
    "path = \"C:/Users/Angel/Downloads/17-18-19\"\n",
    "os.chdir(path)\n",
    "extension = \".xlsx\"\n",
    "\n",
    "data = pd.DataFrame()\n",
    "for f in glob.glob(path+\"/*\" + extension):\n",
    "    print(f)\n",
    "    df = pd.read_excel(f)\n",
    "    data = data.append(df,ignore_index=True)\n",
    "data.to_excel('17-18-19-Overall_data.xlsx')"
   ]
  },
  {
   "cell_type": "markdown",
   "metadata": {},
   "source": [
    "## Read Data"
   ]
  },
  {
   "cell_type": "markdown",
   "metadata": {},
   "source": [
    "### Import Libraries"
   ]
  },
  {
   "cell_type": "code",
   "execution_count": null,
   "metadata": {},
   "outputs": [],
   "source": [
    "import numpy as np\n",
    "import pandas as pd\n",
    "import matplotlib.pyplot as plt"
   ]
  },
  {
   "cell_type": "code",
   "execution_count": null,
   "metadata": {},
   "outputs": [],
   "source": [
    "data=pd.read_excel(\"17-8-19-Overall_data.xlsx\")"
   ]
  },
  {
   "cell_type": "markdown",
   "metadata": {},
   "source": [
    "### Data Frame"
   ]
  },
  {
   "cell_type": "code",
   "execution_count": null,
   "metadata": {},
   "outputs": [],
   "source": [
    "df=pd.DataFrame(data)\n",
    "df.head()"
   ]
  },
  {
   "cell_type": "code",
   "execution_count": null,
   "metadata": {},
   "outputs": [],
   "source": [
    "df['Site'].unique().tolist()\n",
    "# a=list()\n",
    "# a.append(df.Site.unique())\n",
    "# for b in a:\n",
    "#     print(b)\n",
    "# df[df.Site=='Khyber']\n",
    "\n",
    "# df.describe(include='all')\n",
    "# df.info()\n"
   ]
  },
  {
   "cell_type": "code",
   "execution_count": null,
   "metadata": {},
   "outputs": [],
   "source": []
  },
  {
   "cell_type": "markdown",
   "metadata": {},
   "source": [
    "### Data Profiling"
   ]
  },
  {
   "cell_type": "code",
   "execution_count": null,
   "metadata": {},
   "outputs": [],
   "source": [
    "import pandas_profiling as pf\n",
    "profil=pf.ProfileReport(df)\n",
    "profil.to_file(\"templates/profiling_report_17_18_19.html\")"
   ]
  },
  {
   "cell_type": "code",
   "execution_count": null,
   "metadata": {},
   "outputs": [],
   "source": [
    "df.drop('Date/Time IN', axis=1).plot(kind='box', subplots=True, layout=(2,2), sharex=False, sharey=False, figsize=(9,9), \n",
    "                                        title='Box Plot for each input variable')\n",
    "plt.savefig('Date/Time IN')\n",
    "plt.show()"
   ]
  },
  {
   "cell_type": "code",
   "execution_count": null,
   "metadata": {},
   "outputs": [],
   "source": [
    "# data=df.describe(include=\"all\")\n",
    "# data['Vehicle No.']"
   ]
  },
  {
   "cell_type": "code",
   "execution_count": null,
   "metadata": {},
   "outputs": [],
   "source": [
    "# data=df.Company.unique()\n",
    "# data"
   ]
  },
  {
   "cell_type": "code",
   "execution_count": null,
   "metadata": {},
   "outputs": [],
   "source": [
    "# df['Vehicle No.'].unique()"
   ]
  },
  {
   "cell_type": "code",
   "execution_count": null,
   "metadata": {},
   "outputs": [],
   "source": [
    "Sorting and Saving"
   ]
  },
  {
   "cell_type": "code",
   "execution_count": null,
   "metadata": {},
   "outputs": [],
   "source": [
    "df['Date/Time IN']=pd.to_datetime(df['Date/Time IN'])\n",
    "data=df.sort_values('Date/Time IN')\n",
    "data.to_excel(\"2018_overall_data.xlsx\")"
   ]
  },
  {
   "cell_type": "code",
   "execution_count": null,
   "metadata": {},
   "outputs": [],
   "source": [
    "# print(max(data['Date/Time IN']))\n",
    "# print(min(data['Date/Time IN']))\n",
    "# end=max(data['Date/Time IN'])\n",
    "# start=min(data['Date/Time IN'])"
   ]
  },
  {
   "cell_type": "code",
   "execution_count": null,
   "metadata": {
    "scrolled": true
   },
   "outputs": [],
   "source": [
    "# df['Out Date'].unique()"
   ]
  },
  {
   "cell_type": "markdown",
   "metadata": {},
   "source": [
    "### Datetime"
   ]
  },
  {
   "cell_type": "code",
   "execution_count": null,
   "metadata": {},
   "outputs": [],
   "source": [
    "# import datetime\n",
    "# from datetime import timedelta\n",
    "# datetimeFormat = '%Y-%m-%d %H:%M:%S' \n",
    "\n",
    "\n",
    "# diff = (datetime.datetime.strptime(str(end), datetimeFormat))-(datetime.datetime.strptime(str(start), datetimeFormat))\n",
    "# days=diff.days\n",
    "# Microseconds=diff.microseconds\n",
    "# Seconds=diff.seconds\n",
    "\n",
    "# print(\"Difference:\", diff)\n",
    "# print(\"Days:\", diff.days)\n",
    "# print(\"Microseconds:\", diff.microseconds)\n",
    "# print(\"Seconds:\", diff.seconds)"
   ]
  },
  {
   "cell_type": "markdown",
   "metadata": {},
   "source": [
    "### bar chart"
   ]
  },
  {
   "cell_type": "code",
   "execution_count": null,
   "metadata": {
    "scrolled": true
   },
   "outputs": [],
   "source": [
    "co_ton=df.groupby(['Company','Covered']).size().unstack(1)\n",
    "co_ton\n",
    "co_ton.plot(kind='bar')"
   ]
  },
  {
   "cell_type": "code",
   "execution_count": null,
   "metadata": {},
   "outputs": [],
   "source": [
    "co_ton=df.groupby(['Company','Tons']).size().unstack(1)\n",
    "co_ton\n",
    "co_ton.plot(kind='bar')"
   ]
  },
  {
   "cell_type": "code",
   "execution_count": null,
   "metadata": {},
   "outputs": [],
   "source": [
    "co=(df.Company=='Ozpak').value_counts()\n",
    "print(co)\n",
    "co1=(df.Company=='Albayrak').describe()\n",
    "print(co1)"
   ]
  },
  {
   "cell_type": "code",
   "execution_count": null,
   "metadata": {},
   "outputs": [],
   "source": [
    "%matplotlib notebook\n",
    "\n",
    "df[['Company','Tons']].describe()\n",
    "x=df.Company.unique()\n",
    "# x=df.Company.unique()\n",
    "# y=df.Tons\n",
    "# plt.scatter(x,y)\n",
    "data=df.groupby('Company')['Tons'].sum()\n",
    "data.plot(kind='bar')\n",
    "plt.xlabel(\"companies\")\n",
    "plt.ylabel(\"Tons\")\n",
    "plt.show()"
   ]
  },
  {
   "cell_type": "code",
   "execution_count": null,
   "metadata": {},
   "outputs": [],
   "source": [
    "data"
   ]
  },
  {
   "cell_type": "code",
   "execution_count": null,
   "metadata": {},
   "outputs": [],
   "source": [
    "import matplotlib.pyplot as plt\n",
    "\n",
    "# Data to plot\n",
    "labels = 'Python', 'C++', 'Ruby', 'Java'\n",
    "sizes = [215, 130, 245, 210]\n",
    "colors = ['gold', 'yellowgreen', 'lightcoral', 'lightskyblue']\n",
    "explode = (0.1, 0, 0, 0)  # explode 1st slice\n",
    "\n",
    "# Plot\n",
    "plt.pie(sizes, explode=explode, labels=labels, colors=colors,\n",
    "autopct='%1.1f%%', shadow=True, startangle=140)\n",
    "\n",
    "plt.axis('equal')\n",
    "plt.show()"
   ]
  },
  {
   "cell_type": "markdown",
   "metadata": {},
   "source": [
    "### Pie Chart"
   ]
  },
  {
   "cell_type": "code",
   "execution_count": null,
   "metadata": {},
   "outputs": [],
   "source": [
    "from chart_studio.plotly import plotly\n",
    "plotly.tools.set_credentials_file(username='WaseemDataScientist',api_key='uUqUrNp7ADmdp4XV7VDS')\n",
    "import plotly.graph_objs as go\n",
    "import plotly.figure_factory as ff\n",
    "import dash\n",
    "import dash_core_components as dcc\n",
    "import dash_html_components as html\n",
    "import scipy\n",
    "import chart_studio.plotly as py\n",
    "# from scipy import signals\n",
    "label=[]\n",
    "values=[]\n",
    "c=df['Company'].unique()\n",
    "for d in range(len(c)):\n",
    "    label.append(c[d])\n",
    "a=df['Company'].value_counts()\n",
    "for b in range(len(a)):\n",
    "    values.append(a[b])\n",
    "print(values)\n",
    "# trace=go.pie(labels=label, values=values)\n",
    "from  flask import Markup\n",
    "\n",
    "pie_color = [ \"#F7464A\", \"#46BFBD\", \"#FDB45C\", \"#FEDCBA\",\"#ABCDEF\", \"#DDDDDD\", \"#ABCABC\",\"#F7464A\", \"#46CFBD\", \"#FCB45C\",\n",
    "          \"#FCDCBA\",\"#ACCDEF\", \"#DCDDDD\", \"#ACCABC\",\"red\",\"green\",\"blue\", \"black\",\n",
    "         \"tan\",\"navy\",\"violet\",\"pink\",\"purple\",\"cyan\",\"skyblue\",\"indigo\",\"teal\"]\n",
    "explode = (0.05,0.05,0.05,0.05,0.05,0.05,0.05,0.05,0.05,0.05,0.05,0.05,0.05,0.05,0.05,0.05,0.05,0.05,0.05,0.05,0.05,0.05,\n",
    "           0.05,0.05,0.05,0.05,0.05)\n",
    "\n",
    "trace=go.Pie(labels=label, values=values)\n",
    "py.iplot([trace],filename='basic-pie_chart')"
   ]
  },
  {
   "cell_type": "markdown",
   "metadata": {},
   "source": [
    "## MCB"
   ]
  },
  {
   "cell_type": "code",
   "execution_count": null,
   "metadata": {},
   "outputs": [],
   "source": []
  },
  {
   "cell_type": "code",
   "execution_count": null,
   "metadata": {},
   "outputs": [],
   "source": [
    "from io import BytesIO\n",
    "from flask import Flask, redirect, url_for, request, render_template,make_response, send_file\n",
    "from matplotlib.backends.backend_agg import FigureCanvasAgg as FigureCanvas\n",
    "from mpl_toolkits.mplot3d import Axes3D\n",
    "import pyodbc\n",
    "import jinja2\n",
    "app = Flask(__name__)\n",
    "import numpy as np\n",
    "import pandas as pd\n",
    "import matplotlib.pyplot as plt\n",
    "import os\n",
    "# os.chdir(\"\")\n",
    "plt.style.use('ggplot')\n",
    "#...................................read Data........................\n",
    "\n",
    "data=pd.read_csv(\"2018_Overall_data.csv\")\n",
    "df=pd.DataFrame(data)\n",
    "#............company unique name.............\n",
    "c_name=df.Company.unique()\n",
    "#............company length..............\n",
    "c_l=len(c_name)\n",
    "#.............vehicle unique name............\n",
    "v_name=df['Vehicle No.'].unique()\n",
    "#......vehicle length..................\n",
    "v_l=len(v_name)\n",
    "\n",
    "#........................sorting data........................\n",
    "\n",
    "df['Date/Time IN']=pd.to_datetime(df['Date/Time IN'])\n",
    "data=df.sort_values('Date/Time IN')\n",
    "# data.tail()\n",
    "\n",
    "#................Dealing with Date Time................\n",
    "end=max(data['Date/Time IN'])\n",
    "start=min(data['Date/Time IN'])\n",
    "import datetime\n",
    "from datetime import timedelta\n",
    "datetimeFormat = '%Y-%m-%d %H:%M:%S' \n",
    "diff = (datetime.datetime.strptime(str(end), datetimeFormat))-(datetime.datetime.strptime(str(start), datetimeFormat))\n",
    "days=diff.days\n",
    "Microseconds=diff.microseconds\n",
    "Seconds=diff.seconds\n",
    "#.....................pie chart in matplotlib...................\n",
    "\n",
    "import io\n",
    "import base64\n",
    "\n",
    "@app.route('/pie_graph/')\n",
    "def pie_graph():\n",
    "    label=[]\n",
    "    values=[]\n",
    "    c=df['Company'].unique()\n",
    "    for d in range(len(c)):\n",
    "        label.append(c[d])\n",
    "    a=df['Company'].value_counts()\n",
    "    for b in range(len(a)):\n",
    "        values.append(a[b])\n",
    "        \n",
    "    pie_color = [ \"#F7464A\", \"#46BFBD\", \"#FDB45C\", \"#FEDCBA\",\"#ABCDEF\", \"#DDDDDD\", \"#ABCABC\",\"#F7464A\", \"#46CFBD\",\n",
    "                 \"#FCB45C\",\"#FCDCBA\",\"#ACCDEF\", \"#DCDDDD\", \"#ACCABC\",\"red\",\"green\",\"blue\", \"black\",\n",
    "         \"tan\",\"navy\",\"violet\",\"pink\",\"purple\",\"cyan\",\"skyblue\",\"indigo\",\"teal\"]\n",
    "    explode = (0.05,0.05,0.05,0.05,0.05,0.05,0.05,0.05,0.05,0.05,0.05,0.05,0.05,0.05,0.05,0.05,0.05,0.05,0.05,0.05,\n",
    "               0.05,0.05,0.05,0.05,0.05,0.05,0.05)\n",
    "    fig, ax = plt.subplots(figsize=(10, 8))\n",
    "    ax.pie(values, colors = pie_color, labels=label, autopct='%1.1f%%', startangle=180, pctdistance=0.75,explode = explode)\n",
    "    inner_circle = plt.Circle((0,0),0.20,fc='white')\n",
    "    fig = plt.gcf()\n",
    "    fig.gca().add_artist(inner_circle)\n",
    "    ax.axis('equal')  \n",
    "    ax.set_title(\"Companies\\n\",fontsize=30)\n",
    "    plt.tight_layout()\n",
    "    canvas = FigureCanvas(fig)\n",
    "    img = BytesIO()\n",
    "    fig.savefig(img)\n",
    "    img.seek(0)\n",
    "    return send_file(img, mimetype='image/png')\n",
    "\n",
    "#....................Flask Web Application................................\n",
    "@app.route('/')\n",
    "@app.route('/hello/<user>')\n",
    "\n",
    "def hello_name(user):\n",
    "    return render_template('dash.html', co_name = c_name, co=c_l,ve_name=v_name,ve=v_l,Days=days,m_s=Microseconds,\n",
    "    sec=Seconds)\n",
    "\n",
    "# @app.route('/profiling_report/<report>', methods=['GET'])\n",
    "# def profiling_report(report):\n",
    "#     return render_template('profiling_report.html',report=report)\n",
    "\n",
    "if __name__ == '__main__':\n",
    "   app.run(port=7000)"
   ]
  },
  {
   "cell_type": "code",
   "execution_count": null,
   "metadata": {},
   "outputs": [],
   "source": []
  },
  {
   "cell_type": "code",
   "execution_count": null,
   "metadata": {},
   "outputs": [],
   "source": []
  },
  {
   "cell_type": "markdown",
   "metadata": {},
   "source": [
    "# MCB DASHBOARD"
   ]
  },
  {
   "cell_type": "code",
   "execution_count": null,
   "metadata": {},
   "outputs": [],
   "source": [
    "import os\n",
    "os.chdir(\"C:/Users/Angel/Downloads/Amal\")\n",
    "import pandas as pd\n",
    "import numpy as np\n",
    "data=pd.read_csv(\"jail.csv\")\n",
    "df=pd.DataFrame(data)\n",
    "df.head()\n",
    "df.keys()\n",
    "# print(df.describe())\n",
    "paper=df['paper '].sum()\n",
    "cardboard=df['gatta'].sum()\n",
    "plastic=df['plastic'].sum()\n",
    "teapack=df['Tea bag'].sum()\n",
    "gwaste=df['Green waste'].sum()\n",
    "sbag=df['Shoping Bag'].sum()\n",
    "rdf=df['RDF'].sum()\n",
    "glass=df['glass'].sum()\n",
    "\n",
    "print(glass)\n",
    "print(cardboard)\n",
    "print(plastic)\n",
    "print(teapack)\n",
    "print(gwaste)\n",
    "print(sbag)\n",
    "print(rdf)\n",
    "print(glass)\n",
    "df.replace(np.nan, 0, inplace=True)\n",
    "print(df.head())\n",
    "df['WasteBydate']=df['paper ']+df['gatta']+df['plastic']+df['Tea bag']+df['Green waste']+df['Shoping Bag']+df['RDF']+df['glass']\n",
    "# groupby=df.groupby(['Date']).sum()\n",
    "# print(groupby)\n",
    "print(df.head())\n",
    "for a in df.values:\n",
    "    print(a[0])\n",
    "new_list = [i for i in df]\n",
    "print(new_list)"
   ]
  },
  {
   "cell_type": "code",
   "execution_count": 102,
   "metadata": {},
   "outputs": [
    {
     "name": "stdout",
     "output_type": "stream",
     "text": [
      "         Date  paper   gatta  plastic  Tea bag  Green waste  Shoping Bag  RDF  \\\n",
      "0   9/11/2019    13.5   16.0      1.0      1.5          0.0          0.0  0.0   \n",
      "1  12/11/2019    15.5   24.5      1.5      2.0          1.0          0.5  3.0   \n",
      "2  13/11/2019    10.0   15.0      2.5      3.0          1.5          0.5  4.5   \n",
      "3  14/11/2019     8.0   12.0      1.0      1.5          1.0          0.0  1.5   \n",
      "4  15/11/2019     7.0    6.0      0.0      0.0          0.0          0.0  1.0   \n",
      "\n",
      "   glass  \n",
      "0    0.0  \n",
      "1    0.0  \n",
      "2    2.0  \n",
      "3    0.0  \n",
      "4    0.0  \n",
      " * Serving Flask app \"__main__\" (lazy loading)\n",
      " * Environment: production\n",
      "   WARNING: Do not use the development server in a production environment.\n",
      "   Use a production WSGI server instead.\n",
      " * Debug mode: off\n"
     ]
    },
    {
     "name": "stderr",
     "output_type": "stream",
     "text": [
      " * Running on http://127.0.0.1:8000/ (Press CTRL+C to quit)\n",
      "127.0.0.1 - - [22/Jan/2020 16:05:15] \"\u001b[37mGET /mcb-dashboard/jail HTTP/1.1\u001b[0m\" 200 -\n",
      "127.0.0.1 - - [22/Jan/2020 16:05:15] \"\u001b[36mGET /static/Chart.min.js HTTP/1.1\u001b[0m\" 304 -\n",
      "127.0.0.1 - - [22/Jan/2020 16:05:15] \"\u001b[36mGET /static/mcb1.jpeg HTTP/1.1\u001b[0m\" 304 -\n",
      "127.0.0.1 - - [22/Jan/2020 16:05:15] \"\u001b[36mGET /static/cardboard.jpg HTTP/1.1\u001b[0m\" 304 -\n",
      "127.0.0.1 - - [22/Jan/2020 16:05:15] \"\u001b[36mGET /static/paper.jpg HTTP/1.1\u001b[0m\" 304 -\n",
      "127.0.0.1 - - [22/Jan/2020 16:05:15] \"\u001b[36mGET /static/plastic.jpg HTTP/1.1\u001b[0m\" 304 -\n",
      "127.0.0.1 - - [22/Jan/2020 16:05:15] \"\u001b[36mGET /static/rdf.jpg HTTP/1.1\u001b[0m\" 304 -\n",
      "127.0.0.1 - - [22/Jan/2020 16:05:15] \"\u001b[36mGET /static/glass.jpg HTTP/1.1\u001b[0m\" 304 -\n",
      "127.0.0.1 - - [22/Jan/2020 16:05:15] \"\u001b[36mGET /static/teapack.jpg HTTP/1.1\u001b[0m\" 304 -\n",
      "127.0.0.1 - - [22/Jan/2020 16:05:16] \"\u001b[36mGET /static/greenwaste.jpg HTTP/1.1\u001b[0m\" 304 -\n",
      "127.0.0.1 - - [22/Jan/2020 16:05:16] \"\u001b[36mGET /static/shopingbag.jpg HTTP/1.1\u001b[0m\" 304 -\n",
      "127.0.0.1 - - [22/Jan/2020 16:05:43] \"\u001b[37mGET /mcb-dashboard/jail HTTP/1.1\u001b[0m\" 200 -\n",
      "[2020-01-22 17:14:30,659] ERROR in app: Exception on / [GET]\n",
      "Traceback (most recent call last):\n",
      "  File \"C:\\Users\\Angel\\Anaconda3\\lib\\site-packages\\flask\\app.py\", line 2292, in wsgi_app\n",
      "    response = self.full_dispatch_request()\n",
      "  File \"C:\\Users\\Angel\\Anaconda3\\lib\\site-packages\\flask\\app.py\", line 1815, in full_dispatch_request\n",
      "    rv = self.handle_user_exception(e)\n",
      "  File \"C:\\Users\\Angel\\Anaconda3\\lib\\site-packages\\flask\\app.py\", line 1718, in handle_user_exception\n",
      "    reraise(exc_type, exc_value, tb)\n",
      "  File \"C:\\Users\\Angel\\Anaconda3\\lib\\site-packages\\flask\\_compat.py\", line 35, in reraise\n",
      "    raise value\n",
      "  File \"C:\\Users\\Angel\\Anaconda3\\lib\\site-packages\\flask\\app.py\", line 1813, in full_dispatch_request\n",
      "    rv = self.dispatch_request()\n",
      "  File \"C:\\Users\\Angel\\Anaconda3\\lib\\site-packages\\flask\\app.py\", line 1799, in dispatch_request\n",
      "    return self.view_functions[rule.endpoint](**req.view_args)\n",
      "TypeError: hello_name() missing 1 required positional argument: 'user'\n",
      "127.0.0.1 - - [22/Jan/2020 17:14:30] \"\u001b[1m\u001b[35mGET / HTTP/1.1\u001b[0m\" 500 -\n"
     ]
    }
   ],
   "source": [
    "import pandas as pd\n",
    "import numpy as np\n",
    "import matplotlib.pyplot as plt\n",
    "import pyodbc\n",
    "import jinja2\n",
    "import base64\n",
    "import os\n",
    "from io import BytesIO\n",
    "from flask import Flask, redirect, url_for, request, render_template,make_response, send_file\n",
    "from matplotlib.backends.backend_agg import FigureCanvasAgg as FigureCanvas\n",
    "from mpl_toolkits.mplot3d import Axes3D\n",
    "\n",
    "app = Flask(__name__)\n",
    "\n",
    "\n",
    "# os.chdir(\"C:/Users/Angel/Downl\")\n",
    "data=pd.read_csv(\"jail.csv\")\n",
    "df=pd.DataFrame(data)\n",
    "df.head()\n",
    "df.keys()\n",
    "\n",
    "# print(df.describe())\n",
    "paper=df['paper '].sum()\n",
    "cardboard=df['gatta'].sum()\n",
    "plastic=df['plastic'].sum()\n",
    "teapack=df['Tea bag'].sum()\n",
    "gwaste=df['Green waste'].sum()\n",
    "sbag=df['Shoping Bag'].sum()\n",
    "rdf=df['RDF'].sum()\n",
    "glass=df['glass'].sum()\n",
    "\n",
    "df.replace(np.nan, 0, inplace=True)\n",
    "print(df.head())\n",
    "df['WasteBydate']=df['paper ']+df['gatta']+df['plastic']+df['Tea bag']+df['Green waste']+df['Shoping Bag']+df['RDF']+df['glass']\n",
    "label=df['Date']\n",
    "value=df['WasteBydate']\n",
    "\n",
    "#...datetime work..\n",
    "#..get all date\n",
    "date=df['Date']\n",
    "data_values=df.values\n",
    "#....................Flask Web Application................................\n",
    "@app.route('/')\n",
    "@app.route('/mcb-dashboard/<user>')\n",
    "\n",
    "def hello_name(user):\n",
    "    if user==\"jail\":\n",
    "    \n",
    "        label=df['Date']\n",
    "        value=df['WasteBydate']\n",
    "        return render_template('dash.html', paper=paper, cardboard=cardboard,plastic=plastic, teapack=teapack,\n",
    "        gwaste=gwaste,sbag=sbag,rdf=rdf,glass=glass,labels=label,values=value, Date=date, data=df, data2=data_values)\n",
    "    else :\n",
    "        return none\n",
    "\n",
    "# @app.route('/profiling_report/<report>', methods=['GET'])\n",
    "# def profiling_report(report):\n",
    "#     return render_template('profiling_report.html',report=report)\n",
    "\n",
    "if __name__ == '__main__':\n",
    "    app.run(port=8000)"
   ]
  },
  {
   "cell_type": "code",
   "execution_count": null,
   "metadata": {},
   "outputs": [],
   "source": []
  },
  {
   "cell_type": "code",
   "execution_count": null,
   "metadata": {},
   "outputs": [],
   "source": []
  }
 ],
 "metadata": {
  "kernelspec": {
   "display_name": "Python 3",
   "language": "python",
   "name": "python3"
  },
  "language_info": {
   "codemirror_mode": {
    "name": "ipython",
    "version": 3
   },
   "file_extension": ".py",
   "mimetype": "text/x-python",
   "name": "python",
   "nbconvert_exporter": "python",
   "pygments_lexer": "ipython3",
   "version": "3.7.1"
  }
 },
 "nbformat": 4,
 "nbformat_minor": 2
}
