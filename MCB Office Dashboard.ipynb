{
 "cells": [
  {
   "cell_type": "markdown",
   "metadata": {},
   "source": [
    "### Import Libraries and Initialize Flask Main App"
   ]
  },
  {
   "cell_type": "code",
   "execution_count": 102,
   "metadata": {},
   "outputs": [],
   "source": [
    "import pandas as pd\n",
    "import numpy as np\n",
    "import matplotlib.pyplot as plt\n",
    "import pyodbc\n",
    "import jinja2\n",
    "import base64\n",
    "import os\n",
    "from io import BytesIO\n",
    "from flask import Flask, redirect, url_for, request, render_template,make_response, send_file\n",
    "from matplotlib.backends.backend_agg import FigureCanvasAgg as FigureCanvas\n",
    "from mpl_toolkits.mplot3d import Axes3D"
   ]
  },
  {
   "cell_type": "markdown",
   "metadata": {},
   "source": [
    "### Initialize Fask main App"
   ]
  },
  {
   "cell_type": "code",
   "execution_count": 103,
   "metadata": {},
   "outputs": [],
   "source": [
    "app = Flask(__name__)"
   ]
  },
  {
   "cell_type": "markdown",
   "metadata": {},
   "source": [
    "### Read Data Set and print details"
   ]
  },
  {
   "cell_type": "code",
   "execution_count": 104,
   "metadata": {},
   "outputs": [
    {
     "name": "stdout",
     "output_type": "stream",
     "text": [
      "Index(['Date', 'paper ', 'gatta', 'plastic', 'Tea bag', 'Green waste',\n",
      "       'Shoping Bag', 'RDF', 'glass'],\n",
      "      dtype='object')\n",
      "         Date  paper   gatta  plastic  Tea bag  Green waste  Shoping Bag  RDF  \\\n",
      "0   9/11/2019    13.5   16.0      1.0      1.5          NaN          NaN  NaN   \n",
      "1  12/11/2019    15.5   24.5      1.5      2.0          1.0          0.5  3.0   \n",
      "2  13/11/2019    10.0   15.0      2.5      3.0          1.5          0.5  4.5   \n",
      "3  14/11/2019     8.0   12.0      1.0      1.5          1.0          0.0  1.5   \n",
      "4  15/11/2019     7.0    6.0      NaN      NaN          NaN          NaN  1.0   \n",
      "\n",
      "   glass  \n",
      "0    NaN  \n",
      "1    NaN  \n",
      "2    2.0  \n",
      "3    NaN  \n",
      "4    NaN  \n"
     ]
    }
   ],
   "source": [
    "# os.chdir(\"C:/Users/Angel/Downl\")\n",
    "data=pd.read_csv(\"jail.csv\")\n",
    "#Data into pandas data frame...\n",
    "df=pd.DataFrame(data)\n",
    "# Display keys of the data..\n",
    "print(df.keys())\n",
    "#display head first five rows/records from data...\n",
    "print(df.head())"
   ]
  },
  {
   "cell_type": "markdown",
   "metadata": {},
   "source": [
    "### Working with waste categories"
   ]
  },
  {
   "cell_type": "code",
   "execution_count": 105,
   "metadata": {},
   "outputs": [],
   "source": [
    "# Calculate the sum of Each Category\n",
    "paper=df['paper '].sum()\n",
    "cardboard=df['gatta'].sum()\n",
    "plastic=df['plastic'].sum()\n",
    "teapack=df['Tea bag'].sum()\n",
    "gwaste=df['Green waste'].sum()\n",
    "sbag=df['Shoping Bag'].sum()\n",
    "rdf=df['RDF'].sum()\n",
    "glass=df['glass'].sum()\n",
    "#Replace null values with 0...\n",
    "df.replace(np.nan, 0, inplace=True)\n",
    "#...caluculate sum of all categories waste by date....\n",
    "df['WasteBydate']=df['paper ']+df['gatta']+df['plastic']+df['Tea bag']+df['Green waste']+df['Shoping Bag']+df['RDF']+df['glass']\n",
    "#Define labels and values for jinja template...Flask\n",
    "label=df['Date']\n",
    "value=df['WasteBydate']\n",
    "\n",
    "#...datetime work..\n",
    "#..get all date\n",
    "date=df['Date']\n",
    "data_values=df.values"
   ]
  },
  {
   "cell_type": "markdown",
   "metadata": {},
   "source": [
    "### Pandas Profile Report"
   ]
  },
  {
   "cell_type": "code",
   "execution_count": 106,
   "metadata": {},
   "outputs": [],
   "source": [
    "import pandas_profiling as pf\n",
    "profil=pf.ProfileReport(df)\n",
    "profil.to_file(\"templates/report.html\")"
   ]
  },
  {
   "cell_type": "markdown",
   "metadata": {},
   "source": [
    "### Flask Dashboard"
   ]
  },
  {
   "cell_type": "code",
   "execution_count": null,
   "metadata": {},
   "outputs": [],
   "source": [
    "#....................Flask Web Application................................\n",
    "#... add route main path....\n",
    "@app.route('/')\n",
    "@app.route('/mcb-dashboard/<user>')\n",
    "\n",
    "#...Web page of MCB Jain road bracnh....\n",
    "def hello_name(user):\n",
    "    if user==\"jail\":\n",
    "    \n",
    "        label=df['Date']\n",
    "        value=df['WasteBydate']\n",
    "        return render_template('dash.html', paper=paper, cardboard=cardboard,plastic=plastic, teapack=teapack,\n",
    "        gwaste=gwaste,sbag=sbag,rdf=rdf,glass=glass,labels=label,values=value, Date=date, data=df, data2=data_values)\n",
    "    else:\n",
    "        return none\n",
    "#...Pandas Profiling Report...\n",
    "@app.route('/mcb-dashboard/report',methods = ['POST', 'GET'])\n",
    "def result():\n",
    "    return render_template(\"report.html\")\n",
    "    "
   ]
  },
  {
   "cell_type": "markdown",
   "metadata": {},
   "source": [
    "### Dashboard main app on port 8080"
   ]
  },
  {
   "cell_type": "code",
   "execution_count": null,
   "metadata": {},
   "outputs": [
    {
     "name": "stdout",
     "output_type": "stream",
     "text": [
      " * Serving Flask app \"__main__\" (lazy loading)\n",
      " * Environment: production\n",
      "   WARNING: Do not use the development server in a production environment.\n",
      "   Use a production WSGI server instead.\n",
      " * Debug mode: off\n"
     ]
    },
    {
     "name": "stderr",
     "output_type": "stream",
     "text": [
      " * Running on http://127.0.0.1:8000/ (Press CTRL+C to quit)\n",
      "INFO:werkzeug: * Running on http://127.0.0.1:8000/ (Press CTRL+C to quit)\n",
      "127.0.0.1 - - [24/Jan/2020 20:06:28] \"\u001b[37mGET /mcb-dashboard/jail HTTP/1.1\u001b[0m\" 200 -\n",
      "INFO:werkzeug:127.0.0.1 - - [24/Jan/2020 20:06:28] \"\u001b[37mGET /mcb-dashboard/jail HTTP/1.1\u001b[0m\" 200 -\n"
     ]
    }
   ],
   "source": [
    "if __name__ == '__main__':\n",
    "    app.run(port=8000)"
   ]
  },
  {
   "cell_type": "code",
   "execution_count": null,
   "metadata": {},
   "outputs": [],
   "source": []
  },
  {
   "cell_type": "code",
   "execution_count": null,
   "metadata": {},
   "outputs": [],
   "source": []
  }
 ],
 "metadata": {
  "kernelspec": {
   "display_name": "Python 3",
   "language": "python",
   "name": "python3"
  },
  "language_info": {
   "codemirror_mode": {
    "name": "ipython",
    "version": 3
   },
   "file_extension": ".py",
   "mimetype": "text/x-python",
   "name": "python",
   "nbconvert_exporter": "python",
   "pygments_lexer": "ipython3",
   "version": "3.7.1"
  }
 },
 "nbformat": 4,
 "nbformat_minor": 2
}
